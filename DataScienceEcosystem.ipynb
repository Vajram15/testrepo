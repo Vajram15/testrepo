{
 "cells": [
  {
   "cell_type": "markdown",
   "id": "105308f2",
   "metadata": {},
   "source": [
    "# Data Science Tools and Ecosystem"
   ]
  },
  {
   "cell_type": "markdown",
   "id": "31794b89",
   "metadata": {},
   "source": [
    "In this notebook, Data Science Tools and Ecosystem are summarized."
   ]
  },
  {
   "cell_type": "markdown",
   "id": "2c33ff6d",
   "metadata": {},
   "source": [
    "**Objectives:** \n",
    "<ul><li>list of popular languages for data science<li> libraries for data science<li> tools for data science\n",
    "<ul>"
   ]
  },
  {
   "cell_type": "markdown",
   "id": "759d90bf",
   "metadata": {},
   "source": [
    "Some of the popular languages that Data Scientists use are:<br>\n",
    "1. Phython<br>\n",
    "2. R<br>\n",
    "3. SQL<br>"
   ]
  },
  {
   "cell_type": "markdown",
   "id": "df12bc82",
   "metadata": {},
   "source": [
    "Some of the commonly used libraries used by data scientists include:<br>\n",
    "1. Pandas<br>\n",
    "2. NumPy<br>\n",
    "3. Tensorflow<br>\n"
   ]
  },
  {
   "cell_type": "markdown",
   "id": "477d3330",
   "metadata": {},
   "source": [
    "|Data science tools|\n",
    "|----|\n",
    "|open source tools|\n",
    "|commercial tools|\n",
    "|cloud based tools|"
   ]
  },
  {
   "cell_type": "markdown",
   "id": "2cdb8274",
   "metadata": {},
   "source": [
    "|Data science tools|\n",
    "|----|\n",
    "|open source tools|\n",
    "|commercial tools|\n",
    "|cloud based tools|"
   ]
  },
  {
   "cell_type": "markdown",
   "id": "9e8aaa88",
   "metadata": {},
   "source": [
    "### Below are a few examples of evaluating arithmetic expressions in Python"
   ]
  },
  {
   "cell_type": "markdown",
   "id": "4d536786",
   "metadata": {},
   "source": [
    " ### Below are a few examples of evaluating arithmetic expressions in Python"
   ]
  },
  {
   "cell_type": "code",
   "execution_count": 3,
   "id": "2eb6d06a",
   "metadata": {},
   "outputs": [
    {
     "data": {
      "text/plain": [
       "17"
      ]
     },
     "execution_count": 3,
     "metadata": {},
     "output_type": "execute_result"
    }
   ],
   "source": [
    "# This a simple arithmetic expression to mutiply then add integers.\n",
    "(3*4)+5"
   ]
  },
  {
   "cell_type": "code",
   "execution_count": 4,
   "id": "b31488e7",
   "metadata": {},
   "outputs": [
    {
     "data": {
      "text/plain": [
       "3.3333333333333335"
      ]
     },
     "execution_count": 4,
     "metadata": {},
     "output_type": "execute_result"
    }
   ],
   "source": [
    "#This will convert 200 minutes to hours by diving by 60.\n",
    "(200/60)"
   ]
  },
  {
   "cell_type": "markdown",
   "id": "ee605f95",
   "metadata": {},
   "source": [
    "## Author <br>\n",
    "S Vajram"
   ]
  },
  {
   "cell_type": "code",
   "execution_count": null,
   "id": "f32d529b",
   "metadata": {},
   "outputs": [],
   "source": []
  }
 ],
 "metadata": {
  "kernelspec": {
   "display_name": "Python 3",
   "language": "python",
   "name": "python3"
  },
  "language_info": {
   "codemirror_mode": {
    "name": "ipython",
    "version": 3
   },
   "file_extension": ".py",
   "mimetype": "text/x-python",
   "name": "python",
   "nbconvert_exporter": "python",
   "pygments_lexer": "ipython3",
   "version": "3.8.8"
  }
 },
 "nbformat": 4,
 "nbformat_minor": 5
}
